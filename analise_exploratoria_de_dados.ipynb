{
  "nbformat": 4,
  "nbformat_minor": 0,
  "metadata": {
    "colab": {
      "provenance": [],
      "gpuType": "T4",
      "authorship_tag": "ABX9TyMJ5vFjD1iCbuVxru7gy4sw",
      "include_colab_link": true
    },
    "kernelspec": {
      "name": "python3",
      "display_name": "Python 3"
    },
    "language_info": {
      "name": "python"
    }
  },
  "cells": [
    {
      "cell_type": "markdown",
      "metadata": {
        "id": "view-in-github",
        "colab_type": "text"
      },
      "source": [
        "<a href=\"https://colab.research.google.com/github/CamachoTech/analise_exploratoria_de_dados/blob/main/analise_exploratoria_de_dados.ipynb\" target=\"_parent\"><img src=\"https://colab.research.google.com/assets/colab-badge.svg\" alt=\"Open In Colab\"/></a>"
      ]
    },
    {
      "cell_type": "markdown",
      "source": [
        "![img_puc_rio.PNG](data:image/png;base64,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)"
      ],
      "metadata": {
        "id": "V4fRNLeo_whW"
      }
    },
    {
      "cell_type": "markdown",
      "source": [
        "# MVP - Análise exploratória de dados e boas práticas\n",
        "\n",
        "Euclides Camacho de Souza"
      ],
      "metadata": {
        "id": "U3_WEFW1RcqK"
      }
    },
    {
      "cell_type": "markdown",
      "source": [
        "## Definição do Problema\n",
        "Este MVP tem por objetivo prever a quantidade de bicicletas compartilhas serão utilizadas em um determinado dia em Washington D.C. Para isso, um dataset parecido com o [UCI Bike Sharing Dataset](https://archive.ics.uci.edu/dataset/275/bike+sharing+dataset) foi montado, extraindo dados sobre o aluguel de bicicletas do site [Capital Bike](http://capitalbikeshare.com/system-data), e informações sobre o clima, visto que influencia no ato de alugar ou não, do site [freemeteo](http://www.freemeteo.com).\n",
        "\n",
        "Vale ressaltar que os dados do UCI citado anteriormente, já estão na forma numérica, por esse motivo decidir extrair os dados das mesmas fontes e montar um dataset menos tratado, com o objetivo de aplicar os tratamentos aprendidos neste curso.\n",
        "\n",
        "\n"
      ],
      "metadata": {
        "id": "ChdeyTabRuEJ"
      }
    },
    {
      "cell_type": "code",
      "source": [],
      "metadata": {
        "id": "-neBnuGRRqYh"
      },
      "execution_count": null,
      "outputs": []
    },
    {
      "cell_type": "code",
      "source": [],
      "metadata": {
        "id": "gjGI7ZGZf_qu"
      },
      "execution_count": null,
      "outputs": []
    },
    {
      "cell_type": "code",
      "execution_count": null,
      "metadata": {
        "id": "WRzni_Cvzn8Z",
        "colab": {
          "base_uri": "https://localhost:8080/"
        },
        "outputId": "ca334e1d-e18e-4834-bf90-d7910a0a4e0f"
      },
      "outputs": [
        {
          "output_type": "stream",
          "name": "stdout",
          "text": [
            "Mounted at /content/drive\n"
          ]
        }
      ],
      "source": [
        "# Imports\n",
        "\n",
        "# Pacotes para tratamento de dados\n",
        "import pandas as pd\n",
        "import numpy as np\n",
        "\n",
        "import sys\n",
        "import os\n",
        "\n",
        "# Conectando e montando o caminha do drive\n",
        "from google.colab import drive\n",
        "drive.mount(r'/content/drive', force_remount=True)\n",
        "\n",
        "# Construção de gráficos\n",
        "import matplotlib as mpl\n",
        "import matplotlib.pyplot as plt\n",
        "\n",
        "# Exibição de dados no jupyter notebook\n",
        "from IPython.display import display\n",
        "\n",
        "# Pacote para identificação da cidade com a Longitude e Latitude\n",
        "from geopy.geocoders import Nominatim\n",
        "\n",
        "# Inciando Nominatim API\n",
        "geolocator = Nominatim(user_agent='geopy/2.4.1')\n",
        "\n",
        "# Como temos muitas linhas, alteramos o tempo de delay\n",
        "from geopy.extra.rate_limiter import RateLimiter\n",
        "geocode = RateLimiter(geolocator.reverse, min_delay_seconds=1)"
      ]
    },
    {
      "cell_type": "code",
      "source": [
        "\n"
      ],
      "metadata": {
        "id": "NbENI3FJ4bSj"
      },
      "execution_count": null,
      "outputs": []
    },
    {
      "cell_type": "code",
      "source": [],
      "metadata": {
        "id": "-TwfvD164snf"
      },
      "execution_count": null,
      "outputs": []
    },
    {
      "cell_type": "markdown",
      "source": [
        "### Montagem do Dataset\n",
        "\n",
        "O dataset final terá as seguintes informações:\n",
        "- data\n",
        "- estacao_ano : verão, inverno, primavera e outono\n",
        "- ano: 2021 e 2022\n",
        "- mes: meses do ano de 1 a 12\n",
        "- feriado: se a data é feriado (True ou False)\n",
        "- dia_util: se não for feriado ou final de semana (True ou False)\n",
        "\n",
        "- descricao_clima: Chuva,\n",
        "  - Neve,\n",
        "  - Neve Chuva,\n",
        "  - Nevoeiro Neve,\n",
        "  - Nevoeiro Chuva,\n",
        "  - Tempestade de raios Chuva,\n",
        "  - Nevoeiro Tempestade de raios Chuva,\n",
        "  - Nevoeiro Neve Chuva\n",
        "  - Parcialmente nublado ou poucas nuvens\n",
        "  - Nublado e raios\n",
        "  - Nublado e sincelo\n",
        "\n",
        "- temp_min_C: temperatura mínima do dia em °C\n",
        "- temp_min_max: temperatura máxima do dia em °C\n",
        "- vento_constante_km_h: velocidade do vento constante em km/h\n",
        "- rajda_vento_km_h: rajada de vento em km/h\n",
        "- volume_chuva:volume de chuva em mm\n",
        "- espessura_neve: espessura de neve em mm\n",
        "\n",
        "- qtd_casual: quantidade de usuários casuais\n",
        "- qtd_registrado: quantidade de usuários registrados\n",
        "- qtd_total: quantidade de usuários totais\n",
        "\n"
      ],
      "metadata": {
        "id": "mNqny8ExZ9SV"
      }
    },
    {
      "cell_type": "code",
      "source": [],
      "metadata": {
        "id": "fhQMgeRnHUSq"
      },
      "execution_count": null,
      "outputs": []
    },
    {
      "cell_type": "code",
      "source": [],
      "metadata": {
        "id": "iKC2QwNmHT60"
      },
      "execution_count": null,
      "outputs": []
    },
    {
      "cell_type": "markdown",
      "source": [
        "#### Dados sobre as locações\n",
        "Para chegar nos dados sobre aluguéis das bicicletas, foram realizados downloads de 24 pastas e unificados os arquivos csv com o código na célula seguinte, mas para não correr o risco de tratar o MVP, unificamos com o pandas.concat e salvamos no drive. Com isso, será uma consulta simples ao arquivo unificado com os dados de janeiro de 2021 até 31 de dezembro de 2022.\n"
      ],
      "metadata": {
        "id": "e4eB7wLAbOkt"
      }
    },
    {
      "cell_type": "code",
      "source": [
        "# Lendo todos os arquivos e unificando os dados\n",
        "'''\n",
        "part_1 = r'/content/drive/MyDrive/MVP/capital_bike_share/'\n",
        "df = pd.read_csv(part_1 + 'capital_bike_share_unificado.csv')\n",
        "'''\n",
        "\n",
        "## Deletar as linhas que tenham alguma coorde-\n",
        "## nada vazia/nula (NaN), pois não consiguimos\n",
        "## identificar sua localização\n",
        "'''\n",
        "df = df.dropna(how='any')\n",
        "df.reset_index(drop=True, inplace=True)\n",
        "'''\n",
        "\n",
        "# Criando a coluna data para cruzamento com as informações\n",
        "## metereológicas\n",
        "'''\n",
        "df['started_at'] = df['started_at'].str[0:10]\n",
        "'''"
      ],
      "metadata": {
        "id": "N6S1SUdsDHyf"
      },
      "execution_count": 68,
      "outputs": []
    },
    {
      "cell_type": "code",
      "source": [],
      "metadata": {
        "id": "Qu0sF143H68q"
      },
      "execution_count": 68,
      "outputs": []
    },
    {
      "cell_type": "markdown",
      "source": [
        "Agrupando a quantidade de usuários por dia para saber a quantidade de usuários casuais, registrados e totais."
      ],
      "metadata": {
        "id": "dhnNzw1pH7Ze"
      }
    },
    {
      "cell_type": "code",
      "source": [
        "# Selecionando parte do dataframe par contagem\n",
        "'''\n",
        "capital_bike_share = df[['started_at','ride_id','member_casual']]\n",
        "'''\n",
        "# Agrupando com groupby.agg para realizar a contagem\n",
        "## de uma única vez\n",
        "'''\n",
        "capital_bike_share = capital_bike_share.pivot_table(values='ride_id',\n",
        "        index='started_at', columns='member_casual', aggfunc='count')\\\n",
        "                                               .reset_index(drop=False)\n",
        "'''\n",
        "# Selecionando as colunas necessárias\n",
        "'''\n",
        "capital_bike_share = capital_bike_share[['started_at','casual','member']]\n",
        "'''\n",
        "# Renomeando as colunas\n",
        "'''\n",
        "capital_bike_share.columns = ['data','qtd_casual','qtd_registrado']\n",
        "'''\n",
        "# Total de aluguies\n",
        "'''\n",
        "capital_bike_share['qtd_total'] = capital_bike_share['qtd_casual'] + \\\n",
        "                                  capital_bike_share['qtd_registrado']\n",
        "'''"
      ],
      "metadata": {
        "id": "CRCh43nFHtGT"
      },
      "execution_count": 69,
      "outputs": []
    },
    {
      "cell_type": "code",
      "source": [
        "capital_bike_share = pd.read_csv(r'https://github.com/CamachoTech/analise_exploratoria_de_dados/blob/main/bike_share_tratado.csv')"
      ],
      "metadata": {
        "id": "H0mRLOIbLCBb",
        "colab": {
          "base_uri": "https://localhost:8080/",
          "height": 251
        },
        "outputId": "ae048342-bf12-41d3-f0f0-adabd596c006"
      },
      "execution_count": 71,
      "outputs": [
        {
          "output_type": "error",
          "ename": "ParserError",
          "evalue": "ignored",
          "traceback": [
            "\u001b[0;31m---------------------------------------------------------------------------\u001b[0m",
            "\u001b[0;31mParserError\u001b[0m                               Traceback (most recent call last)",
            "\u001b[0;32m<ipython-input-71-9d440747bd1e>\u001b[0m in \u001b[0;36m<cell line: 1>\u001b[0;34m()\u001b[0m\n\u001b[0;32m----> 1\u001b[0;31m \u001b[0mcapital_bike_share\u001b[0m \u001b[0;34m=\u001b[0m \u001b[0mpd\u001b[0m\u001b[0;34m.\u001b[0m\u001b[0mread_csv\u001b[0m\u001b[0;34m(\u001b[0m\u001b[0;34mr'https://github.com/CamachoTech/analise_exploratoria_de_dados/blob/main/bike_share_tratado.csv'\u001b[0m\u001b[0;34m)\u001b[0m\u001b[0;34m\u001b[0m\u001b[0;34m\u001b[0m\u001b[0m\n\u001b[0m",
            "\u001b[0;32m/usr/local/lib/python3.10/dist-packages/pandas/util/_decorators.py\u001b[0m in \u001b[0;36mwrapper\u001b[0;34m(*args, **kwargs)\u001b[0m\n\u001b[1;32m    209\u001b[0m                 \u001b[0;32melse\u001b[0m\u001b[0;34m:\u001b[0m\u001b[0;34m\u001b[0m\u001b[0;34m\u001b[0m\u001b[0m\n\u001b[1;32m    210\u001b[0m                     \u001b[0mkwargs\u001b[0m\u001b[0;34m[\u001b[0m\u001b[0mnew_arg_name\u001b[0m\u001b[0;34m]\u001b[0m \u001b[0;34m=\u001b[0m \u001b[0mnew_arg_value\u001b[0m\u001b[0;34m\u001b[0m\u001b[0;34m\u001b[0m\u001b[0m\n\u001b[0;32m--> 211\u001b[0;31m             \u001b[0;32mreturn\u001b[0m \u001b[0mfunc\u001b[0m\u001b[0;34m(\u001b[0m\u001b[0;34m*\u001b[0m\u001b[0margs\u001b[0m\u001b[0;34m,\u001b[0m \u001b[0;34m**\u001b[0m\u001b[0mkwargs\u001b[0m\u001b[0;34m)\u001b[0m\u001b[0;34m\u001b[0m\u001b[0;34m\u001b[0m\u001b[0m\n\u001b[0m\u001b[1;32m    212\u001b[0m \u001b[0;34m\u001b[0m\u001b[0m\n\u001b[1;32m    213\u001b[0m         \u001b[0;32mreturn\u001b[0m \u001b[0mcast\u001b[0m\u001b[0;34m(\u001b[0m\u001b[0mF\u001b[0m\u001b[0;34m,\u001b[0m \u001b[0mwrapper\u001b[0m\u001b[0;34m)\u001b[0m\u001b[0;34m\u001b[0m\u001b[0;34m\u001b[0m\u001b[0m\n",
            "\u001b[0;32m/usr/local/lib/python3.10/dist-packages/pandas/util/_decorators.py\u001b[0m in \u001b[0;36mwrapper\u001b[0;34m(*args, **kwargs)\u001b[0m\n\u001b[1;32m    329\u001b[0m                     \u001b[0mstacklevel\u001b[0m\u001b[0;34m=\u001b[0m\u001b[0mfind_stack_level\u001b[0m\u001b[0;34m(\u001b[0m\u001b[0;34m)\u001b[0m\u001b[0;34m,\u001b[0m\u001b[0;34m\u001b[0m\u001b[0;34m\u001b[0m\u001b[0m\n\u001b[1;32m    330\u001b[0m                 )\n\u001b[0;32m--> 331\u001b[0;31m             \u001b[0;32mreturn\u001b[0m \u001b[0mfunc\u001b[0m\u001b[0;34m(\u001b[0m\u001b[0;34m*\u001b[0m\u001b[0margs\u001b[0m\u001b[0;34m,\u001b[0m \u001b[0;34m**\u001b[0m\u001b[0mkwargs\u001b[0m\u001b[0;34m)\u001b[0m\u001b[0;34m\u001b[0m\u001b[0;34m\u001b[0m\u001b[0m\n\u001b[0m\u001b[1;32m    332\u001b[0m \u001b[0;34m\u001b[0m\u001b[0m\n\u001b[1;32m    333\u001b[0m         \u001b[0;31m# error: \"Callable[[VarArg(Any), KwArg(Any)], Any]\" has no\u001b[0m\u001b[0;34m\u001b[0m\u001b[0;34m\u001b[0m\u001b[0m\n",
            "\u001b[0;32m/usr/local/lib/python3.10/dist-packages/pandas/io/parsers/readers.py\u001b[0m in \u001b[0;36mread_csv\u001b[0;34m(filepath_or_buffer, sep, delimiter, header, names, index_col, usecols, squeeze, prefix, mangle_dupe_cols, dtype, engine, converters, true_values, false_values, skipinitialspace, skiprows, skipfooter, nrows, na_values, keep_default_na, na_filter, verbose, skip_blank_lines, parse_dates, infer_datetime_format, keep_date_col, date_parser, dayfirst, cache_dates, iterator, chunksize, compression, thousands, decimal, lineterminator, quotechar, quoting, doublequote, escapechar, comment, encoding, encoding_errors, dialect, error_bad_lines, warn_bad_lines, on_bad_lines, delim_whitespace, low_memory, memory_map, float_precision, storage_options)\u001b[0m\n\u001b[1;32m    948\u001b[0m     \u001b[0mkwds\u001b[0m\u001b[0;34m.\u001b[0m\u001b[0mupdate\u001b[0m\u001b[0;34m(\u001b[0m\u001b[0mkwds_defaults\u001b[0m\u001b[0;34m)\u001b[0m\u001b[0;34m\u001b[0m\u001b[0;34m\u001b[0m\u001b[0m\n\u001b[1;32m    949\u001b[0m \u001b[0;34m\u001b[0m\u001b[0m\n\u001b[0;32m--> 950\u001b[0;31m     \u001b[0;32mreturn\u001b[0m \u001b[0m_read\u001b[0m\u001b[0;34m(\u001b[0m\u001b[0mfilepath_or_buffer\u001b[0m\u001b[0;34m,\u001b[0m \u001b[0mkwds\u001b[0m\u001b[0;34m)\u001b[0m\u001b[0;34m\u001b[0m\u001b[0;34m\u001b[0m\u001b[0m\n\u001b[0m\u001b[1;32m    951\u001b[0m \u001b[0;34m\u001b[0m\u001b[0m\n\u001b[1;32m    952\u001b[0m \u001b[0;34m\u001b[0m\u001b[0m\n",
            "\u001b[0;32m/usr/local/lib/python3.10/dist-packages/pandas/io/parsers/readers.py\u001b[0m in \u001b[0;36m_read\u001b[0;34m(filepath_or_buffer, kwds)\u001b[0m\n\u001b[1;32m    609\u001b[0m \u001b[0;34m\u001b[0m\u001b[0m\n\u001b[1;32m    610\u001b[0m     \u001b[0;32mwith\u001b[0m \u001b[0mparser\u001b[0m\u001b[0;34m:\u001b[0m\u001b[0;34m\u001b[0m\u001b[0;34m\u001b[0m\u001b[0m\n\u001b[0;32m--> 611\u001b[0;31m         \u001b[0;32mreturn\u001b[0m \u001b[0mparser\u001b[0m\u001b[0;34m.\u001b[0m\u001b[0mread\u001b[0m\u001b[0;34m(\u001b[0m\u001b[0mnrows\u001b[0m\u001b[0;34m)\u001b[0m\u001b[0;34m\u001b[0m\u001b[0;34m\u001b[0m\u001b[0m\n\u001b[0m\u001b[1;32m    612\u001b[0m \u001b[0;34m\u001b[0m\u001b[0m\n\u001b[1;32m    613\u001b[0m \u001b[0;34m\u001b[0m\u001b[0m\n",
            "\u001b[0;32m/usr/local/lib/python3.10/dist-packages/pandas/io/parsers/readers.py\u001b[0m in \u001b[0;36mread\u001b[0;34m(self, nrows)\u001b[0m\n\u001b[1;32m   1776\u001b[0m                     \u001b[0mcolumns\u001b[0m\u001b[0;34m,\u001b[0m\u001b[0;34m\u001b[0m\u001b[0;34m\u001b[0m\u001b[0m\n\u001b[1;32m   1777\u001b[0m                     \u001b[0mcol_dict\u001b[0m\u001b[0;34m,\u001b[0m\u001b[0;34m\u001b[0m\u001b[0;34m\u001b[0m\u001b[0m\n\u001b[0;32m-> 1778\u001b[0;31m                 \u001b[0;34m)\u001b[0m \u001b[0;34m=\u001b[0m \u001b[0mself\u001b[0m\u001b[0;34m.\u001b[0m\u001b[0m_engine\u001b[0m\u001b[0;34m.\u001b[0m\u001b[0mread\u001b[0m\u001b[0;34m(\u001b[0m  \u001b[0;31m# type: ignore[attr-defined]\u001b[0m\u001b[0;34m\u001b[0m\u001b[0;34m\u001b[0m\u001b[0m\n\u001b[0m\u001b[1;32m   1779\u001b[0m                     \u001b[0mnrows\u001b[0m\u001b[0;34m\u001b[0m\u001b[0;34m\u001b[0m\u001b[0m\n\u001b[1;32m   1780\u001b[0m                 )\n",
            "\u001b[0;32m/usr/local/lib/python3.10/dist-packages/pandas/io/parsers/c_parser_wrapper.py\u001b[0m in \u001b[0;36mread\u001b[0;34m(self, nrows)\u001b[0m\n\u001b[1;32m    228\u001b[0m         \u001b[0;32mtry\u001b[0m\u001b[0;34m:\u001b[0m\u001b[0;34m\u001b[0m\u001b[0;34m\u001b[0m\u001b[0m\n\u001b[1;32m    229\u001b[0m             \u001b[0;32mif\u001b[0m \u001b[0mself\u001b[0m\u001b[0;34m.\u001b[0m\u001b[0mlow_memory\u001b[0m\u001b[0;34m:\u001b[0m\u001b[0;34m\u001b[0m\u001b[0;34m\u001b[0m\u001b[0m\n\u001b[0;32m--> 230\u001b[0;31m                 \u001b[0mchunks\u001b[0m \u001b[0;34m=\u001b[0m \u001b[0mself\u001b[0m\u001b[0;34m.\u001b[0m\u001b[0m_reader\u001b[0m\u001b[0;34m.\u001b[0m\u001b[0mread_low_memory\u001b[0m\u001b[0;34m(\u001b[0m\u001b[0mnrows\u001b[0m\u001b[0;34m)\u001b[0m\u001b[0;34m\u001b[0m\u001b[0;34m\u001b[0m\u001b[0m\n\u001b[0m\u001b[1;32m    231\u001b[0m                 \u001b[0;31m# destructive to chunks\u001b[0m\u001b[0;34m\u001b[0m\u001b[0;34m\u001b[0m\u001b[0m\n\u001b[1;32m    232\u001b[0m                 \u001b[0mdata\u001b[0m \u001b[0;34m=\u001b[0m \u001b[0m_concatenate_chunks\u001b[0m\u001b[0;34m(\u001b[0m\u001b[0mchunks\u001b[0m\u001b[0;34m)\u001b[0m\u001b[0;34m\u001b[0m\u001b[0;34m\u001b[0m\u001b[0m\n",
            "\u001b[0;32m/usr/local/lib/python3.10/dist-packages/pandas/_libs/parsers.pyx\u001b[0m in \u001b[0;36mpandas._libs.parsers.TextReader.read_low_memory\u001b[0;34m()\u001b[0m\n",
            "\u001b[0;32m/usr/local/lib/python3.10/dist-packages/pandas/_libs/parsers.pyx\u001b[0m in \u001b[0;36mpandas._libs.parsers.TextReader._read_rows\u001b[0;34m()\u001b[0m\n",
            "\u001b[0;32m/usr/local/lib/python3.10/dist-packages/pandas/_libs/parsers.pyx\u001b[0m in \u001b[0;36mpandas._libs.parsers.TextReader._tokenize_rows\u001b[0;34m()\u001b[0m\n",
            "\u001b[0;32m/usr/local/lib/python3.10/dist-packages/pandas/_libs/parsers.pyx\u001b[0m in \u001b[0;36mpandas._libs.parsers.raise_parser_error\u001b[0;34m()\u001b[0m\n",
            "\u001b[0;31mParserError\u001b[0m: Error tokenizing data. C error: Expected 1 fields in line 35, saw 8\n"
          ]
        }
      ]
    },
    {
      "cell_type": "code",
      "source": [],
      "metadata": {
        "id": "QqjeX3g2LC5s"
      },
      "execution_count": null,
      "outputs": []
    },
    {
      "cell_type": "markdown",
      "source": [
        "#### Dados metereológicos\n",
        "\n",
        "Os dados sobre a condição climática foram extraídos através de WebScraping, capturando as tabelas em formatos HTML e trasnformando para Pandas DataFrame. Da tabela capturada utilizaremos a data, temperaturas mínimas e máximas, velocidade do vento (e a velocidade máxima ou rajada de vento), volume de chuva, espessura da nece e a descrição do clima (chuva, neve, nublado, tempestade ...)"
      ],
      "metadata": {
        "id": "5bKOkn5ubSAE"
      }
    },
    {
      "cell_type": "code",
      "source": [
        "# Lendo os dados metereológicos de Washington D.C\n",
        "clima_tempo = pd.read_csv(part_1+'df_clima_tempo_mensal_diario.csv')\n",
        "\n",
        "# Selecionando as colunas necessárias sobre o clima\n",
        "clima_tempo = clima_tempo[[\n",
        "      'Data', 'Temperatura mínima diária', 'Temperatura máxima diária',\n",
        "       'Vento constante máximo', 'Rajada de vento máxima',\n",
        "       'Precipitação diária total', 'Espessura de neve', 'Descrição']]\n",
        "\n",
        "# Renomeando as colunas\n",
        "clima_tempo.columns = ['data', 'temp_min_C','temp_max_C','vento_constante_km_h',\n",
        "                       'rajada_vento_km_h','volume_chuva','espessura_neve',\n",
        "                       'descricao_clima']\n",
        "\n",
        "# Padronizando a coluna data\n",
        "clima_tempo['data']  = clima_tempo['data'].str[6::] + '-'+ \\\n",
        "                               clima_tempo['data'].str[3:5]\\\n",
        "                          +'-'+ clima_tempo['data'].str[0:2]"
      ],
      "metadata": {
        "id": "5Sa_5CNXhIBO"
      },
      "execution_count": null,
      "outputs": []
    },
    {
      "cell_type": "code",
      "source": [],
      "metadata": {
        "id": "dv0zCy84B_84"
      },
      "execution_count": null,
      "outputs": []
    },
    {
      "cell_type": "markdown",
      "source": [
        "Identificando a estação climática"
      ],
      "metadata": {
        "id": "hrC_d49JLiLM"
      }
    },
    {
      "cell_type": "code",
      "source": [
        "# Identificando a estação do ano identificados pelo mês,\n",
        "## mas para uma maior precisa\n",
        "# Verão\n",
        "condicao = clima_tempo['data'].str[5:7]\\\n",
        "          .isin(['06', '07', '08'])\n",
        "clima_tempo.loc[condicao,'estacao_ano']='verão'\n",
        "\n",
        "# Outono\n",
        "condicao = clima_tempo['data'].str[5:7]\\\n",
        "          .isin(['09', '10', '11'])\n",
        "clima_tempo.loc[condicao,'estacao_ano']='outono'\n",
        "\n",
        "# Inverno\n",
        "condicao = clima_tempo['data'].str[5:7]\\\n",
        "          .isin(['12', '01', '02'])\n",
        "clima_tempo.loc[condicao,'estacao_ano']='inverno'\n",
        "\n",
        "# Primavera\n",
        "condicao = clima_tempo['data'].str[5:7]\\\n",
        "          .isin(['03', '04', '05'])\n",
        "clima_tempo.loc[condicao,'estacao_ano']='primavera'"
      ],
      "metadata": {
        "id": "fqTKKZLQ-DWS"
      },
      "execution_count": null,
      "outputs": []
    },
    {
      "cell_type": "markdown",
      "source": [
        "#### Cruzando as informações de aluguéis e metereológicas\n",
        "(unificando os dados em um único pandas dataframe)"
      ],
      "metadata": {
        "id": "JV0Xkj00Ebp2"
      }
    },
    {
      "cell_type": "code",
      "source": [
        "# Faremos inner, pois queremos saber a condição climática\n",
        "capital_bike_share = pd.merge(\n",
        "                              capital_bike_share,\n",
        "                              clima_tempo,\n",
        "                              how='inner',\n",
        "                              on='data'\n",
        ")"
      ],
      "metadata": {
        "id": "OhlVyKPqErXU"
      },
      "execution_count": null,
      "outputs": []
    },
    {
      "cell_type": "markdown",
      "source": [
        "#### Cirando as colunas ano, mes, feriado e dia_util\n",
        "Os feriados foram extraídos do site [dchr.dc.gov](https://dchr.dc.gov/page/holiday-schedules)"
      ],
      "metadata": {
        "id": "VSuMgY9w-Eyt"
      }
    },
    {
      "cell_type": "code",
      "source": [
        "# Coluna ano\n",
        "capital_bike_share['ano'] = capital_bike_share['data'].str[0:4]\n",
        "\n",
        "# Coluna mes\n",
        "capital_bike_share['mes'] = capital_bike_share['data'].str[5:7]\n",
        "\n",
        "# Feriado em Washington D.C\n",
        "feriados = ['01-02','01-16','02-16', '02-20','04-17','05-29',\n",
        "                '06-19','07-04','09-04','10-09','11-23','25']\n",
        "\n",
        "capital_bike_share.loc[:, 'feriado']= False\n",
        "condicao = capital_bike_share['data'].str[5::].isin([feriados])\n",
        "capital_bike_share.loc[condicao, 'feriado']= True\n",
        "\n",
        "# Dia útil\n",
        "capital_bike_share.loc[:, 'dia_util'] = True\n",
        "\n",
        "condicao_1 = capital_bike_share['data']\\\n",
        "                  .astype('datetime64[ns]')\\\n",
        "                  .dt.weekday>=6\n",
        "\n",
        "condicao_2 = capital_bike_share['feriado'] == True\n",
        "\n",
        "condicao = condicao_1 | condicao_2\n",
        "\n",
        "capital_bike_share.loc[:, 'dia_util'] = False"
      ],
      "metadata": {
        "id": "-uaSd-2TGm-V"
      },
      "execution_count": null,
      "outputs": []
    },
    {
      "cell_type": "code",
      "source": [],
      "metadata": {
        "id": "sIainn2tGsW-"
      },
      "execution_count": null,
      "outputs": []
    },
    {
      "cell_type": "markdown",
      "source": [
        "Reordenando as colunas"
      ],
      "metadata": {
        "id": "mUT-lYkXOuRv"
      }
    },
    {
      "cell_type": "code",
      "source": [
        "capital_bike_share = capital_bike_share[[\n",
        "          'data','ano','mes', 'feriado','dia_util',\n",
        "          'descricao_clima','temp_min_C', 'temp_max_C',\n",
        "           'vento_constante_km_h','rajada_vento_km_h',\n",
        "          'volume_chuva','espessura_neve','qtd_casual',\n",
        "                         'qtd_registrado','qtd_total']]"
      ],
      "metadata": {
        "id": "fNqsCUjQO0Wz"
      },
      "execution_count": null,
      "outputs": []
    },
    {
      "cell_type": "code",
      "source": [],
      "metadata": {
        "id": "eZsAHsoTP53y"
      },
      "execution_count": null,
      "outputs": []
    },
    {
      "cell_type": "markdown",
      "source": [
        "#### Transformando colunas em tipos numéricos\n",
        "Iremos transforma as colunas com informações sobre temperatura, velocidade do vento e espessura da neve em dados numpericos para facitar a visualização nos gráficos das análises exploratórias\n"
      ],
      "metadata": {
        "id": "Yb_GQbDMQZ9V"
      }
    },
    {
      "cell_type": "code",
      "source": [
        "# Dados de temperatura para  tipo numérico\n",
        "capital_bike_share['temp_min_C'] = capital_bike_share['temp_min_C']\\\n",
        "                                              .str.replace('°C','')\\\n",
        "                                                      .astype(float)\n",
        "\n",
        "capital_bike_share['temp_max_C'] = capital_bike_share['temp_max_C']\\\n",
        "                                              .str.replace('°C','')\\\n",
        "                                                      .astype(float)\n",
        "\n",
        "\n",
        "# Transformando as informações sobre velocidade do vento\n",
        "capital_bike_share['vento_constante_km_h'] = \\\n",
        "                          capital_bike_share['vento_constante_km_h']\\\n",
        "                                            .str.replace(' Km/h','')\\\n",
        "                                                        .astype(float)\n",
        "capital_bike_share['rajada_vento_km_h'] = \\\n",
        "                            capital_bike_share['rajada_vento_km_h']\\\n",
        "                                            .str.replace(' Km/h','')\\\n",
        "                                                        .astype(float)\n",
        "\n",
        "# Transformando as colunas espessura_neve e volume_chuva\n",
        "capital_bike_share['espessura_neve'] = \\\n",
        "                              capital_bike_share['espessura_neve']\\\n",
        "                                             .str.replace(',','.')\\\n",
        "                              .str.replace('mm|cm|m','',regex=True)\\\n",
        "                                                     .astype(float)\n",
        "capital_bike_share['volume_chuva'] = \\\n",
        "                            capital_bike_share['volume_chuva']\\\n",
        "                            .str.replace(',','.')\\\n",
        "                            .str.replace('mm','',regex=True)\\\n",
        "                                               .astype(float)"
      ],
      "metadata": {
        "id": "2Z4BxQ3VkqcH"
      },
      "execution_count": null,
      "outputs": []
    },
    {
      "cell_type": "code",
      "source": [],
      "metadata": {
        "id": "aIkLHEB6mFq8"
      },
      "execution_count": null,
      "outputs": []
    },
    {
      "cell_type": "code",
      "source": [],
      "metadata": {
        "id": "SG7Gkdxo_Ixe"
      },
      "execution_count": null,
      "outputs": []
    },
    {
      "cell_type": "markdown",
      "source": [
        "#### Identificação dos eventos climáticos para os casos não identificados\n",
        "Os dados capturados sobre o clima de um determinado dia tem mais de 500 casos classifcados como \"eventos climáticos não informados\", para resolver esse problema foi realizado mais um webScraping, mas desse vez na tabela com informções sobre a condicação climática ao longo do dia, para o príodo de 2021-01-01 até 2022-12-31."
      ],
      "metadata": {
        "id": "zScuq5ldkVwT"
      }
    },
    {
      "cell_type": "code",
      "source": [
        "# Carregando arquivo csv com os eventos climáticos ao longo do dia\n",
        "clima_tempo_dia_hora = pd.read_csv(part_1+'df_clima_tempo_por_dia_hora.csv')"
      ],
      "metadata": {
        "id": "oYMgpiA-lrrT"
      },
      "execution_count": null,
      "outputs": []
    },
    {
      "cell_type": "code",
      "source": [],
      "metadata": {
        "id": "Lg7uijtOl6VY"
      },
      "execution_count": null,
      "outputs": []
    },
    {
      "cell_type": "markdown",
      "source": [
        "Identificação do evento climático de acordo com o código"
      ],
      "metadata": {
        "id": "cPu27nTSlbyb"
      }
    },
    {
      "cell_type": "code",
      "source": [
        "condicao = clima_tempo_dia_hora.DescriçãoDetalhes.str.contains('\\(1',na=False)\n",
        "clima_tempo_dia_hora.loc[condicao, 'descricao_detalhes'] = 'Limpo'\n",
        "\n",
        "condicao = clima_tempo_dia_hora.DescriçãoDetalhes.str.contains('\\(2',na=False)\n",
        "clima_tempo_dia_hora.loc[condicao, 'descricao_detalhes'] = 'Poucas nuvens'\n",
        "\n",
        "condicao = clima_tempo_dia_hora.DescriçãoDetalhes.str.contains('\\(3',na=False)\n",
        "clima_tempo_dia_hora.loc[condicao, 'descricao_detalhes'] = 'Parcialemente nublado'\n",
        "\n",
        "condicao = clima_tempo_dia_hora.DescriçãoDetalhes.str.contains('\\(4',na=False)\n",
        "clima_tempo_dia_hora.loc[condicao, 'descricao_detalhes'] = 'Nublado'\n",
        "\n",
        "condicao = clima_tempo_dia_hora.DescriçãoDetalhes.str.contains('\\(7',na=False)\n",
        "clima_tempo_dia_hora.loc[condicao, 'descricao_detalhes'] = 'Chuva'\n",
        "\n",
        "condicao = clima_tempo_dia_hora.DescriçãoDetalhes.str.contains('\\(8',na=False)\n",
        "clima_tempo_dia_hora.loc[condicao, 'descricao_detalhes'] = 'Chuva forte'\n",
        "\n",
        "condicao = clima_tempo_dia_hora.DescriçãoDetalhes.str.contains('\\(10',na=False)\n",
        "clima_tempo_dia_hora.loc[condicao, 'descricao_detalhes'] = 'Trovão'\n",
        "\n",
        "condicao = clima_tempo_dia_hora.DescriçãoDetalhes.str.contains('\\(26',na=False)\n",
        "clima_tempo_dia_hora.loc[condicao, 'descricao_detalhes'] = 'Neve'\n",
        "\n",
        "condicao = clima_tempo_dia_hora.DescriçãoDetalhes.str.contains('\\(94',na=False)\n",
        "clima_tempo_dia_hora.loc[condicao, 'descricao_detalhes'] = 'Sincelo'"
      ],
      "metadata": {
        "id": "K8B5941Zdpw2"
      },
      "execution_count": null,
      "outputs": []
    },
    {
      "cell_type": "code",
      "source": [],
      "metadata": {
        "id": "0D8nYQGZmmkX"
      },
      "execution_count": null,
      "outputs": []
    },
    {
      "cell_type": "markdown",
      "source": [
        "Agrupando todos os eventos climáticos por dia"
      ],
      "metadata": {
        "id": "UIOtwOGumnfF"
      }
    },
    {
      "cell_type": "code",
      "source": [
        "# Selecionando as colunas necessárias\n",
        "clima_tempo_dia_hora = clima_tempo_dia_hora[['dia','descricao_detalhes']]\n",
        "\n",
        "# Retirando as duplicidades de eventos no mesmo dia\n",
        "clima_tempo_dia_hora.drop_duplicates(inplace=True)\n",
        "\n",
        "# Ordenando pelo evento climático\n",
        "clima_tempo_dia_hora.sort_values(by='descricao_detalhes', inplace = True)"
      ],
      "metadata": {
        "colab": {
          "base_uri": "https://localhost:8080/"
        },
        "id": "xz5y0qkXgMZQ",
        "outputId": "f1626e51-f628-47f1-822d-6e5e9ed40fbf"
      },
      "execution_count": null,
      "outputs": [
        {
          "output_type": "stream",
          "name": "stderr",
          "text": [
            "<ipython-input-58-1631955512c0>:5: SettingWithCopyWarning: \n",
            "A value is trying to be set on a copy of a slice from a DataFrame\n",
            "\n",
            "See the caveats in the documentation: https://pandas.pydata.org/pandas-docs/stable/user_guide/indexing.html#returning-a-view-versus-a-copy\n",
            "  clima_tempo_dia_hora.drop_duplicates(inplace=True)\n"
          ]
        }
      ]
    },
    {
      "cell_type": "code",
      "source": [
        "# Agrupando os eventos climáticos identifcados no dia\n",
        "clima_tempo_dia_hora['descricao_detalhes'] = clima_tempo_dia_hora.groupby(['dia'])\\\n",
        "                          ['descricao_detalhes'].transform(lambda x: ', '.join(x))\n",
        "\n",
        "# Retirandos as linhas duplicados\n",
        "clima_tempo_dia_hora.drop_duplicates(inplace = True)"
      ],
      "metadata": {
        "id": "Dos8wkBSgODY"
      },
      "execution_count": null,
      "outputs": []
    },
    {
      "cell_type": "code",
      "source": [],
      "metadata": {
        "id": "CjazN8wsF7cF"
      },
      "execution_count": null,
      "outputs": []
    },
    {
      "cell_type": "markdown",
      "source": [
        "A seguir iremos classificar os eventos climáticos com os seguintes tipos:\n",
        " - Chuva,\n",
        " - Neve,\n",
        " - Neve Chuva,\n",
        " - Nevoeiro Neve,\n",
        " - Nevoeiro Chuva,\n",
        " - Tempestade de raios Chuva,\n",
        " - Nevoeiro Tempestade de raios Chuva,\n",
        " - Nevoeiro Neve Chuva\n",
        " - Parcialmente nublado ou poucas nuvens\n",
        " - Nublado e raios\n",
        " - Nublado e sincelo\n",
        "\n",
        "Para isso, visualizei os agrupamentos possíveis e fui classificando de acordo com as combinações dos eventos climáticos"
      ],
      "metadata": {
        "id": "6zO3eTcBnQrg"
      }
    },
    {
      "cell_type": "code",
      "source": [
        "condicao = clima_tempo_dia_hora.descricao_detalhes.str.contains('Chuva, Nublado, Parcialemente nublado, Poucas nuvens',na=False)\n",
        "clima_tempo_dia_hora.loc[condicao, 'descricao_detalhes'] = 'Chuva'\n",
        "\n",
        "\n",
        "condicao = clima_tempo_dia_hora.descricao_detalhes.str\\\n",
        "  .contains('Chuva, Nublado, Parcialemente nublado, Poucas nuvens, Trovão',na=False)\n",
        "clima_tempo_dia_hora.loc[condicao, 'descricao_detalhes'] = 'Tempestade de raios Chuva'\n",
        "\n",
        "\n",
        "condicao = clima_tempo_dia_hora.descricao_detalhes.str\\\n",
        "              .contains('Chuva, Nublado, Parcialemente nublado',na=False)\n",
        "clima_tempo_dia_hora.loc[condicao, 'descricao_detalhes'] = 'Chuva'\n",
        "\n",
        "\n",
        "\n",
        "condicao = clima_tempo_dia_hora.descricao_detalhes.str\\\n",
        ".contains('Chuva, Nublado, Parcialemente nublado, Trovão',na=False)\n",
        "clima_tempo_dia_hora.loc[condicao, 'descricao_detalhes'] = 'Tempestade de raios Chuva'\n",
        "\n",
        "\n",
        "\n",
        "condicao = clima_tempo_dia_hora.descricao_detalhes.str\\\n",
        ".contains('Chuva, Limpo, Nublado, Parcialemente nublado, Poucas nuvens',na=False)\n",
        "clima_tempo_dia_hora.loc[condicao, 'descricao_detalhes'] = 'Chuva'\n",
        "\n",
        "\n",
        "\n",
        "condicao = clima_tempo_dia_hora.descricao_detalhes.str\\\n",
        ".contains('Chuva, Limpo, Nublado, Parcialemente nublado, Poucas nuvens, Trovão',na=False)\n",
        "clima_tempo_dia_hora.loc[condicao, 'descricao_detalhes'] = 'Tempestade de raios Chuva'\n",
        "\n",
        "condicao = clima_tempo_dia_hora.descricao_detalhes.str\\\n",
        ".contains('Chuva, Parcialemente nublado, Poucas nuvens, Trovão',na=False)\n",
        "clima_tempo_dia_hora.loc[condicao, 'descricao_detalhes'] = 'Tempestade de raios Chuva'\n",
        "\n",
        "condicao = clima_tempo_dia_hora.descricao_detalhes.str\\\n",
        ".contains('Chuva, Parcialemente nublado, Poucas nuvens, Trovão',na=False)\n",
        "clima_tempo_dia_hora.loc[condicao, 'descricao_detalhes'] = 'Tempestade de raios Chuva'\n",
        "\n",
        "\n",
        "condicao = clima_tempo_dia_hora.descricao_detalhes.str.contains('Chuva, Nublado',na=False)\n",
        "clima_tempo_dia_hora.loc[condicao, 'descricao_detalhes'] = 'Chuva'\n",
        "\n",
        "condicao = clima_tempo_dia_hora.descricao_detalhes.str.contains('Chuva, Nublado, Trovão',na=False)\n",
        "clima_tempo_dia_hora.loc[condicao, 'descricao_detalhes'] = 'Tempestade de raios Chuva'\n",
        "\n",
        "condicao = clima_tempo_dia_hora.descricao_detalhes.str\\\n",
        ".contains('Chuva, Nublado, Trovão|Chuva, Limpo, Parcialemente nublado, Poucas nuvens, Trovão',\n",
        "                                                                          na=False,regex=True)\n",
        "clima_tempo_dia_hora.loc[condicao, 'descricao_detalhes'] = 'Tempestade de raios Chuva'\n",
        "\n",
        "\n",
        "condicao = clima_tempo_dia_hora.descricao_detalhes.str\\\n",
        ".contains('Chuva, Nublado, Poucas nuvens|Chuva, Limpo, Nublado, Parcialemente nublado|Chuva, Limpo, Nublado',\n",
        "                                                                                    na=False,regex=True)\n",
        "clima_tempo_dia_hora.loc[condicao, 'descricao_detalhes'] = 'Chuva'\n",
        "\n",
        "condicao = clima_tempo_dia_hora.descricao_detalhes.str\\\n",
        ".contains('Chuva, Limpo, Neve, Nublado, Parcialemente nublado, Poucas nuvens',na=False,regex=True)\n",
        "clima_tempo_dia_hora.loc[condicao, 'descricao_detalhes'] = 'Chuva'\n",
        "\n",
        "condicao = clima_tempo_dia_hora.descricao_detalhes.str\\\n",
        ".contains('Chuva, Limpo, Neve, Nublado, Parcialemente nublado, Poucas nuvens',na=False,regex=True)\n",
        "clima_tempo_dia_hora.loc[condicao, 'descricao_detalhes'] = 'Neve Chuva'\n",
        "\n",
        "\n",
        "condicao = clima_tempo_dia_hora.descricao_detalhes.str\\\n",
        ".contains('Chuva, Limpo, Neve, Nublado, Parcialemente nublado, Poucas nuvens|Chuva, Neve, Nublado, Poucas nuvens|Chuva, Neve, Nublado, Parcialemente nublado|Chuva, Limpo, Neve, Nublado|Chuva, Neve, Nublado, Parcialemente nublado, Poucas nuvens|Chuva, Neve, Nublado',na=False,regex=True)\n",
        "clima_tempo_dia_hora.loc[condicao, 'descricao_detalhes'] = 'Neve Chuva'\n",
        "\n",
        "\n",
        "condicao = clima_tempo_dia_hora.descricao_detalhes=='Limpo'\n",
        "clima_tempo_dia_hora.loc[condicao, 'descricao_detalhes'] = 'Limpo'\n",
        "\n",
        "condicao = clima_tempo_dia_hora.descricao_detalhes.str\\\n",
        ".contains('Chuva, Limpo, Neve, Nublado, Parcialemente nublado, Poucas nuvens',na=False,regex=True)\n",
        "clima_tempo_dia_hora.loc[condicao, 'descricao_detalhes'] = 'Neve Chuva'\n",
        "\n",
        "condicao = clima_tempo_dia_hora.descricao_detalhes.str\\\n",
        ".contains('Limpo, Nublado, Parcialemente nublado, Poucas nuvens|Limpo, Parcialemente nublado, Poucas nuvens|Limpo, Poucas nuvensLimpo, Nublado, Parcialemente nublado|Limpo, Nublado, Poucas nuvens|Nublado, Parcialemente nublado, Poucas nuvens|Parcialemente nublado, Poucas nuvens'\n",
        ",na=False,regex=True)\n",
        "clima_tempo_dia_hora.loc[condicao, 'descricao_detalhes'] = 'Parcialmente nublado ou poucas nuvens'\n",
        "\n",
        "\n",
        "condicao = clima_tempo_dia_hora.descricao_detalhes.str\\\n",
        ".contains('Poucas nuvens|Limpo, Parcialemente nublado, Poucas nuvens',na=False,regex=True)\n",
        "clima_tempo_dia_hora.loc[condicao, 'descricao_detalhes'] = 'Poucas nuvens'\n",
        "\n",
        "condicao = clima_tempo_dia_hora.descricao_detalhes.str\\\n",
        ".contains('Nublado',na=False,regex=True)\n",
        "clima_tempo_dia_hora.loc[condicao, 'descricao_detalhes'] = 'Nublado'\n",
        "\n",
        "\n",
        "condicao = clima_tempo_dia_hora.descricao_detalhes.str\\\n",
        ".contains('Limpo, Parcialemente nublado, Poucas nuvens, Trovão|Limpo, Nublado, Parcialemente nublado, Poucas nuvens, Trovão|Limpo, Parcialemente nublado, Poucas nuvens, Trovão|Nublado, Parcialemente nublado, Trovão',\n",
        "                                                                  na=False,regex=True)\n",
        "clima_tempo_dia_hora.loc[condicao, 'descricao_detalhes'] = 'Nublado e raios'\n",
        "\n",
        "\n",
        "condicao = clima_tempo_dia_hora.descricao_detalhes.str\\\n",
        ".contains('Nublado',na=False,regex=True)\n",
        "clima_tempo_dia_hora.loc[condicao, 'descricao_detalhes'] = 'Nublado'\n",
        "\n",
        "condicao = clima_tempo_dia_hora.descricao_detalhes.str\\\n",
        ".contains('Limpo, Neve, Nublado, Parcialemente nublado, Poucas nuvens|Neve, Nublado, Parcialemente nublado, Poucas nuvens|Neve, Nublado',\n",
        "                                                                                                                  na=False,regex=True)\n",
        "clima_tempo_dia_hora.loc[condicao, 'descricao_detalhes'] = 'Neve'\n",
        "\n",
        "\n",
        "condicao = clima_tempo_dia_hora.descricao_detalhes.str\\\n",
        ".contains('Limpo, Nublado, Parcialemente nublado, Poucas nuvens, Sincelo', na=False,regex=True)\n",
        "clima_tempo_dia_hora.loc[condicao, 'descricao_detalhes'] = 'Nublado e sincelo'\n"
      ],
      "metadata": {
        "id": "dnFStByRtahR"
      },
      "execution_count": null,
      "outputs": []
    },
    {
      "cell_type": "code",
      "source": [],
      "metadata": {
        "id": "x9Rakd1Ytgdq"
      },
      "execution_count": null,
      "outputs": []
    },
    {
      "cell_type": "markdown",
      "source": [
        " Substituindo as informações de \"eventos climáticos não informados\" pela identificação realizada anteriormente no dataFrame capital_bike_share"
      ],
      "metadata": {
        "id": "-P449oPvyeXT"
      }
    },
    {
      "cell_type": "code",
      "source": [
        "# Renomenado as colunas para crazemento com o dataFrame clima_tempo\n",
        "clima_tempo_dia_hora.columns = ['data', 'descricaoDetalhes']\n",
        "\n",
        "# Crauzando as tabelas com os dados metereológicos\n",
        "capital_bike_share = pd.merge(\n",
        "              capital_bike_share,\n",
        "              clima_tempo_dia_hora,\n",
        "              how='left',\n",
        "              on='data'\n",
        ")\n",
        "\n",
        "condicao = capital_bike_share.descricao_clima == 'eventos climáticos não informados'\n",
        "\n",
        "capital_bike_share.loc[condicao, 'descricao_clima'] = \\\n",
        "                            capital_bike_share.loc[condicao, 'descricaoDetalhes']\n",
        "\n",
        "# Retirando a coluna 'descricaoDetalhes\n",
        "capital_bike_share = capital_bike_share[[ \\\n",
        "                  'data', 'ano', 'mes', 'feriado', 'dia_util','descricao_clima',\n",
        "       'temp_min_C', 'temp_max_C', 'vento_constante_km_h', 'rajada_vento_km_h',\n",
        "       'volume_chuva', 'espessura_neve', 'qtd_casual', 'qtd_registrado','qtd_total'\n",
        "                                      ]]"
      ],
      "metadata": {
        "id": "-0ceQa6NvtQz"
      },
      "execution_count": null,
      "outputs": []
    },
    {
      "cell_type": "code",
      "source": [],
      "metadata": {
        "id": "VbHm8W303M6b"
      },
      "execution_count": null,
      "outputs": []
    },
    {
      "cell_type": "code",
      "source": [],
      "metadata": {
        "id": "igvqO8dZv6Ho"
      },
      "execution_count": null,
      "outputs": []
    },
    {
      "cell_type": "markdown",
      "source": [
        "### Unifi"
      ],
      "metadata": {
        "id": "Ud-QdNsA3Nep"
      }
    },
    {
      "cell_type": "code",
      "source": [],
      "metadata": {
        "id": "G4KZEeVezy9r"
      },
      "execution_count": null,
      "outputs": []
    }
  ]
}